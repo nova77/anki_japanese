{
 "metadata": {
  "language_info": {
   "codemirror_mode": {
    "name": "ipython",
    "version": 3
   },
   "file_extension": ".py",
   "mimetype": "text/x-python",
   "name": "python",
   "nbconvert_exporter": "python",
   "pygments_lexer": "ipython3",
   "version": "3.7.5"
  },
  "orig_nbformat": 2,
  "kernelspec": {
   "name": "pythonjvsc74a57bd0098786343eadc56c801e1f392c95d0148d1758555752bd72ce0a611e22357d0d",
   "display_name": "Python 3.7.5  ('.venv': venv)"
  },
  "metadata": {
   "interpreter": {
    "hash": "098786343eadc56c801e1f392c95d0148d1758555752bd72ce0a611e22357d0d"
   }
  }
 },
 "nbformat": 4,
 "nbformat_minor": 2,
 "cells": [
  {
   "cell_type": "code",
   "execution_count": 15,
   "metadata": {},
   "outputs": [],
   "source": [
    "import csv\n",
    "import glob\n"
   ]
  },
  {
   "cell_type": "code",
   "execution_count": 24,
   "metadata": {},
   "outputs": [],
   "source": [
    "def load_card(fname):\n",
    "  with open(fname) as f:\n",
    "    reader = csv.reader(f)\n",
    "    return list(reader)\n",
    "\n",
    "def load_cards(dir):\n",
    "  res = {}\n",
    "  for fname in glob.glob(f'{dir}/*.csv'):\n",
    "    card = load_card(fname)\n",
    "    title = os.path.basename(fname)\n",
    "    title = title[:-len('.csv')]\n",
    "    res[title] = card\n",
    "  return res\n",
    "\n"
   ]
  },
  {
   "cell_type": "code",
   "execution_count": 25,
   "metadata": {},
   "outputs": [],
   "source": [
    "cards = load_cards('cards')"
   ]
  },
  {
   "cell_type": "code",
   "execution_count": 26,
   "metadata": {},
   "outputs": [
    {
     "output_type": "execute_result",
     "data": {
      "text/plain": [
       "{'dates': [['last day', 'きのう (kinō)'],\n",
       "  ['last week', 'せんしゅう (sen-shū)'],\n",
       "  ['last month', 'せんげつ (sen-getsu)'],\n",
       "  ['last year', 'きょねん (kyonen)'],\n",
       "  ['today', 'きょう (kyō)'],\n",
       "  ['this week', 'こんしゅう (kon-shū)'],\n",
       "  ['this month', 'こんげつ (kon-getsu)'],\n",
       "  ['this year', 'ことし (kotoshi)'],\n",
       "  ['tomorrow', 'あした (ashita)'],\n",
       "  ['next week', 'らいしゅう (rai-shū)'],\n",
       "  ['next month', 'らいげつ (rai-getsu)'],\n",
       "  ['day after tomorrow', 'あさって (asatte)'],\n",
       "  ['week after tomorrow', 'さらいしゅう (sarai-shū)'],\n",
       "  ['month after next', 'さらいげつ (sarai-getsu)'],\n",
       "  ['am', 'ごぜん (gozen)'],\n",
       "  ['pm', 'ごご (gogo)'],\n",
       "  ['weekend', 'しゅうまつ (shū-matsu)'],\n",
       "  ['always', 'いつも (itsumo)'],\n",
       "  ['often', 'よく (yoku)'],\n",
       "  ['sometimes', 'ときどき (tokidoki)'],\n",
       "  ['occasionally', 'たまに (tamani)'],\n",
       "  ['not very often', 'あまり .. -ません (amari.. -masen)'],\n",
       "  ['never', 'ぜんぜん ..  -ません (zenzen.. -masen)'],\n",
       "  ['hour(s)', '-じ (-ji)'],\n",
       "  ['minute(s)', '-ふん (-fun / -pun)'],\n",
       "  ['year', '-ねん (-nen)'],\n",
       "  ['month', '-がつ (-gatsu)'],\n",
       "  ['day (number, after 10)', '-にち (-nichi)'],\n",
       "  ['day (of the week)', 'ようび (-yōbi)'],\n",
       "  ['from (time)', 'から (kara)'],\n",
       "  ['until', 'まで (made)'],\n",
       "  ['morning', 'あさ (asa)'],\n",
       "  ['noon', 'ひる (hiru)'],\n",
       "  ['evening', 'ばん (ban)'],\n",
       "  ['night', 'よる (yoru)']]}"
      ]
     },
     "metadata": {},
     "execution_count": 26
    }
   ],
   "source": [
    "cards"
   ]
  },
  {
   "cell_type": "code",
   "execution_count": null,
   "metadata": {},
   "outputs": [],
   "source": []
  }
 ]
}